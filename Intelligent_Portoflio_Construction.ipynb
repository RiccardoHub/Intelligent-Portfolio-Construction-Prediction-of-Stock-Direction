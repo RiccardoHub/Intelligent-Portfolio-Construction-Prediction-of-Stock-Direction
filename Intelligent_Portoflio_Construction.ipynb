{
 "cells": [
  {
   "cell_type": "code",
   "execution_count": 2,
   "metadata": {},
   "outputs": [],
   "source": [
    "import pandas as pd \n",
    "import numpy as np\n",
    "import yfinance as yf\n",
    "import wrds\n",
    "import copy\n",
    "import datetime as dt\n",
    "import matplotlib.pyplot as plt"
   ]
  },
  {
   "cell_type": "code",
   "execution_count": 3,
   "metadata": {},
   "outputs": [],
   "source": [
    "tickers = ['AAPL', 'AMZN', 'C', 'CVS', 'MMM', 'SBUX', 'SCHW', 'XOM']\n",
    "start = '2000-06-02'\n",
    "end = '2016-04-26' \n",
    "end2 = dt.datetime.today()"
   ]
  },
  {
   "cell_type": "markdown",
   "metadata": {},
   "source": [
    "### Import Data"
   ]
  },
  {
   "cell_type": "code",
   "execution_count": 103,
   "metadata": {},
   "outputs": [],
   "source": [
    "#FROM R\n",
    "Rdata = pd.read_csv('/Users/riccardo/OneDrive/OneDrive - UOM/ZDGN/Data_Intelligent_Port_Construction.csv')\n",
    "Rdata = Rdata.rename(columns={'Unnamed: 0':'Date'})\n",
    "Rdata.set_index('Date', inplace=True)"
   ]
  },
  {
   "cell_type": "code",
   "execution_count": 7,
   "metadata": {},
   "outputs": [
    {
     "name": "stdout",
     "output_type": "stream",
     "text": [
      "[*********************100%***********************]  8 of 8 completed\n",
      "[*********************100%***********************]  8 of 8 completed\n",
      "[*********************100%***********************]  8 of 8 completed\n",
      "[*********************100%***********************]  8 of 8 completed\n",
      "[*********************100%***********************]  8 of 8 completed\n"
     ]
    }
   ],
   "source": [
    "AdjClose = yf.download(tickers, start=start, end=end)['Adj Close']\n",
    "Volume = yf.download(tickers, start=start, end=end)['Volume']\n",
    "High = yf.download(tickers, start=start, end=end)['High']\n",
    "Low = yf.download(tickers, start=start, end=end)['Low']\n",
    "Close = yf.download(tickers, start=start, end=end)['Close']"
   ]
  },
  {
   "cell_type": "code",
   "execution_count": 8,
   "metadata": {},
   "outputs": [
    {
     "name": "stdout",
     "output_type": "stream",
     "text": [
      "[*********************100%***********************]  8 of 8 completed\n",
      "[*********************100%***********************]  8 of 8 completed\n",
      "[*********************100%***********************]  8 of 8 completed\n",
      "[*********************100%***********************]  8 of 8 completed\n",
      "[*********************100%***********************]  8 of 8 completed\n"
     ]
    }
   ],
   "source": [
    "AdjClose_Validation = yf.download(tickers, start=end, end=end2)['Adj Close']\n",
    "Volume_Validation = yf.download(tickers, start=end, end=end2)['Volume']\n",
    "High_Validation = yf.download(tickers, start=end, end=end2)['High']\n",
    "Low_Validation = yf.download(tickers, start=end, end=end2)['Low']\n",
    "Close_Validation = yf.download(tickers, start=end, end=end2)['Close']"
   ]
  },
  {
   "cell_type": "markdown",
   "metadata": {},
   "source": [
    "### Exponential Smoothing Function"
   ]
  },
  {
   "cell_type": "code",
   "execution_count": 1095,
   "metadata": {},
   "outputs": [],
   "source": [
    "def exponential_smoothing(df, alpha):\n",
    "    DF = df.copy().reset_index(drop=True)\n",
    "    #DF['Predicted'] = 0\n",
    "    #DF.Predicted.loc[0] = DF.loc[0][0]\n",
    "    \n",
    "    #DF.Predicted.loc[1] = (DF.loc[1][0]*alpha)+(DF.Predicted.loc[0]*(1-alpha))\n",
    "    \n",
    "    #for i in range(2, len(DF)):\n",
    "        #DF.Predicted[i] = (DF.loc[i][0]*alpha)+(DF.Predicted.loc[i-1]*(1-alpha))\n",
    "    #DF.Predicted = (DF.iloc[:,0][1:]*alpha) + (DF.Predicted.shift(1)*(1-alpha))\n",
    "    \n",
    "    return DF"
   ]
  },
  {
   "cell_type": "code",
   "execution_count": 10,
   "metadata": {},
   "outputs": [],
   "source": [
    "def exponential_smoothing(df, alpha):\n",
    "    DF = df.copy().reset_index(drop=True) \n",
    "    DF.loc[1] = (DF.loc[1]*alpha)+(DF.loc[0]*(1-alpha))\n",
    "    \n",
    "    for i in range(2, len(DF)-1):\n",
    "        DF[i] = (DF[i]*alpha)+(DF[i-1]*(1-alpha))\n",
    "    \n",
    "    return DF\n",
    "\n",
    "E = {}\n",
    "for n in AdjClose.columns:\n",
    "    E[f'{n}']= exponential_smoothing(AdjClose[n], 0.2)"
   ]
  },
  {
   "cell_type": "code",
   "execution_count": 112,
   "metadata": {
    "collapsed": true,
    "jupyter": {
     "outputs_hidden": true
    }
   },
   "outputs": [
    {
     "name": "stderr",
     "output_type": "stream",
     "text": [
      "/Users/riccardo/opt/anaconda3/lib/python3.8/site-packages/pandas/core/indexing.py:671: SettingWithCopyWarning: \n",
      "A value is trying to be set on a copy of a slice from a DataFrame\n",
      "\n",
      "See the caveats in the documentation: https://pandas.pydata.org/pandas-docs/stable/user_guide/indexing.html#returning-a-view-versus-a-copy\n",
      "  self._setitem_with_indexer(indexer, value)\n"
     ]
    }
   ],
   "source": [
    "d = {}\n",
    "for n in AdjClose.columns:\n",
    "    d[f'{n}']= exponential_smoothing(pd.DataFrame(AdjClose[n]).reset_index(drop=True), 0.2)"
   ]
  },
  {
   "cell_type": "markdown",
   "metadata": {},
   "source": [
    "### Feature Derivation"
   ]
  },
  {
   "cell_type": "markdown",
   "metadata": {},
   "source": [
    "#### On Balance Volume"
   ]
  },
  {
   "cell_type": "code",
   "execution_count": 11,
   "metadata": {},
   "outputs": [],
   "source": [
    "def OBV(df_price, df_volume):\n",
    "    OBV_df = pd.DataFrame(index=range(len(df_volume.index)), columns=['OBV'])\n",
    "    OBV_df.iloc[0] = 0\n",
    "    \n",
    "    for i in range(1, len(df_price)):\n",
    "        if df_price[i] > df_price[i-1]:\n",
    "            OBV_df.loc[i] = (OBV_df.loc[i-1] + df_volume[i])\n",
    "        elif df_price[i] < df_price[i-1]:\n",
    "            OBV_df.loc[i] = (OBV_df.loc[i-1] - df_volume[i])\n",
    "        else:\n",
    "            OBV_df.loc[i] = (OBV_df.loc[i-1] + 0)\n",
    "    \n",
    "    OBV_df.index = df_volume.index\n",
    "    return OBV_df\n",
    "\n",
    "O = {}\n",
    "for n in AdjClose.columns:\n",
    "    O[f'{n}']= OBV(E[n], Volume[n])"
   ]
  },
  {
   "cell_type": "code",
   "execution_count": 36,
   "metadata": {},
   "outputs": [
    {
     "data": {
      "image/png": "[encoded data removed]",
      "text/plain": [
       "<Figure size 432x288 with 1 Axes>"
      ]
     },
     "metadata": {
      "needs_background": "light"
     },
     "output_type": "display_data"
    }
   ],
   "source": [
    "plt.plot(((O['AAPL']-O['AAPL'].min())/(O['AAPL'].max()-O['AAPL'].min())).reset_index(drop=True), label='OBV')\n",
    "plt.plot((E['AAPL']-E['AAPL'].min())/(E['AAPL'].max()-E['AAPL'].min()), label='Smoothed')\n",
    "plt.legend()\n",
    "plt.savefig('/Users/riccardo/OneDrive/OneDrive - UOM/ZDGN/Intelligent Portfolio/OBV')"
   ]
  },
  {
   "cell_type": "markdown",
   "metadata": {},
   "source": [
    "#### Stochastic Oscillator"
   ]
  },
  {
   "cell_type": "code",
   "execution_count": 57,
   "metadata": {},
   "outputs": [],
   "source": [
    "def stochastic_oscillator(close, df_low, df_high, K):\n",
    "    \"remember not to use AdjClose\"\n",
    "    low = df_low.rolling(K).min().reset_index(drop=True)\n",
    "    high = df_high.rolling(K).max().reset_index(drop=True)\n",
    "    \n",
    "    stoch_oscillator = pd.DataFrame()\n",
    "    stoch_oscillator['Oscillator'] = 100*((close - low)/(high - low))\n",
    "    \n",
    "    return stoch_oscillator\n",
    "\n",
    "S = {}\n",
    "for n in AdjClose.columns:\n",
    "    S[f'{n}']= stochastic_oscillator(close=E[n], df_low=E[n], df_high=E[n], K=14)"
   ]
  },
  {
   "cell_type": "markdown",
   "metadata": {},
   "source": [
    "#### Moving Average Convergence Divergence"
   ]
  },
  {
   "cell_type": "code",
   "execution_count": 38,
   "metadata": {},
   "outputs": [],
   "source": [
    "def MACD_dict(df):\n",
    "    DF = df.copy()\n",
    "    #DF.reset_index(drop=True)\n",
    "    DF['MA_Fast'] = DF.Predicted.ewm(span=12,min_periods=12).mean()\n",
    "    DF['MA_Slow'] = DF.Predicted.ewm(span=26,min_periods=26).mean()\n",
    "    DF['MACD'] = DF['MA_Fast'] - DF['MA_Slow']\n",
    "    DF['Signal'] = DF['MACD'].ewm(span=9,min_periods=9).mean()\n",
    "    #df.dropna(inplace=True)\n",
    "    df.index = DF.index\n",
    "    return (DF[['MACD', 'Signal']])"
   ]
  },
  {
   "cell_type": "code",
   "execution_count": 198,
   "metadata": {},
   "outputs": [],
   "source": [
    "# New One for Validation Set\n",
    "def MACD(data):\n",
    "    #DF = pd.DataFrame(index=E['AAPL'].index, columns=[['MA_Fast', 'MA_Slow', 'MACD', 'Signal']])\n",
    "    MA_Fast = data.ewm(span=12,min_periods=12).mean()\n",
    "    MA_Slow = data.ewm(span=26,min_periods=26).mean()\n",
    "    MACD = MA_Fast - MA_Slow\n",
    "    Signal = MACD.ewm(span=9,min_periods=9).mean()\n",
    "    #df.dropna(inplace=True)\n",
    "    #df.index = DF.index\n",
    "    return pd.DataFrame(index=['MACD', 'Signal'], data=[MACD,Signal]).T\n",
    "\n",
    "M = {}\n",
    "for n in AdjClose.columns:\n",
    "    M[f'{n}'] = MACD(data=E[n])"
   ]
  },
  {
   "cell_type": "code",
   "execution_count": 47,
   "metadata": {
    "collapsed": true,
    "jupyter": {
     "outputs_hidden": true
    }
   },
   "outputs": [
    {
     "ename": "NameError",
     "evalue": "name 'd' is not defined",
     "output_type": "error",
     "traceback": [
      "\u001b[0;31m---------------------------------------------------------------------------\u001b[0m",
      "\u001b[0;31mNameError\u001b[0m                                 Traceback (most recent call last)",
      "\u001b[0;32m<ipython-input-47-2bcad8e739a8>\u001b[0m in \u001b[0;36m<module>\u001b[0;34m\u001b[0m\n\u001b[1;32m      4\u001b[0m \u001b[0mM\u001b[0m \u001b[0;34m=\u001b[0m \u001b[0;34m{\u001b[0m\u001b[0;34m}\u001b[0m\u001b[0;34m\u001b[0m\u001b[0;34m\u001b[0m\u001b[0m\n\u001b[1;32m      5\u001b[0m \u001b[0;32mfor\u001b[0m \u001b[0mn\u001b[0m \u001b[0;32min\u001b[0m \u001b[0mrange\u001b[0m\u001b[0;34m(\u001b[0m\u001b[0;36m0\u001b[0m\u001b[0;34m,\u001b[0m\u001b[0;36m8\u001b[0m\u001b[0;34m)\u001b[0m\u001b[0;34m:\u001b[0m\u001b[0;34m\u001b[0m\u001b[0;34m\u001b[0m\u001b[0m\n\u001b[0;32m----> 6\u001b[0;31m     \u001b[0mM\u001b[0m\u001b[0;34m[\u001b[0m\u001b[0;34mf'{AdjClose.columns[n]}'\u001b[0m\u001b[0;34m]\u001b[0m \u001b[0;34m=\u001b[0m \u001b[0mMACD_dict\u001b[0m\u001b[0;34m(\u001b[0m\u001b[0mdf\u001b[0m\u001b[0;34m=\u001b[0m\u001b[0md\u001b[0m\u001b[0;34m[\u001b[0m\u001b[0mAdjClose\u001b[0m\u001b[0;34m.\u001b[0m\u001b[0mcolumns\u001b[0m\u001b[0;34m[\u001b[0m\u001b[0mn\u001b[0m\u001b[0;34m]\u001b[0m\u001b[0;34m]\u001b[0m\u001b[0;34m)\u001b[0m\u001b[0;34m\u001b[0m\u001b[0;34m\u001b[0m\u001b[0m\n\u001b[0m",
      "\u001b[0;31mNameError\u001b[0m: name 'd' is not defined"
     ]
    }
   ],
   "source": [
    "for n in AdjClose.columns:\n",
    "    M[f'{n}'] = MACD(data=E[n])\n",
    "\n",
    "M = {}\n",
    "for n in range(0,8):\n",
    "    M[f'{AdjClose.columns[n]}'] = MACD_dict(df=d[AdjClose.columns[n]])"
   ]
  },
  {
   "cell_type": "markdown",
   "metadata": {},
   "source": [
    "### Application of all functions to validation set"
   ]
  },
  {
   "cell_type": "code",
   "execution_count": 90,
   "metadata": {},
   "outputs": [],
   "source": [
    "# Smoothing\n",
    "E_validation = {}\n",
    "for n in AdjClose_Validation.columns:\n",
    "    E_validation[f'{n}']= exponential_smoothing(AdjClose_Validation[n], 0.2)\n",
    "    \n",
    "# On Balance Volume\n",
    "O_validation = {}\n",
    "for n in AdjClose_Validation.columns:\n",
    "    O_validation[f'{n}']= OBV(E_validation[n], Volume_Validation[n])\n",
    "\n",
    "# Stochastic Oscillator\n",
    "S_validation = {}\n",
    "for n in AdjClose_Validation.columns:\n",
    "    S_validation[f'{n}']= stochastic_oscillator(close=E_validation[n], df_low=E_validation[n], df_high=E_validation[n], K=14)\n",
    "    \n",
    "# Moving Average Convergence Divergence\n",
    "M_validation = {}\n",
    "for n in AdjClose_Validation.columns:\n",
    "    M_validation[f'{n}'] = MACD(data=pd.Series(E_validation[n]))\n",
    "    \n",
    "# Concatenate all together    \n",
    "dict_data_validation = {}\n",
    "for n in AdjClose_Validation.columns:\n",
    "    dict_data_validation[f'{n}'] = (pd.concat([E_validation[n], \n",
    "                                               O_validation[n].reset_index(drop=True), \n",
    "                                               S_validation[n], \n",
    "                                               M_validation[n]], axis=1)).set_index(O_validation[n].index)"
   ]
  },
  {
   "cell_type": "markdown",
   "metadata": {},
   "source": [
    "### Concatenate functions in a single dictionary"
   ]
  },
  {
   "cell_type": "code",
   "execution_count": 72,
   "metadata": {},
   "outputs": [],
   "source": [
    "dict_data = {}\n",
    "for n in AdjClose.columns:\n",
    "    dict_data[f'{n}'] = (pd.concat([E[n], \n",
    "                                    O[n].reset_index(drop=True), \n",
    "                                    S[n], \n",
    "                                    M[n]],\n",
    "                                   axis=1)).set_index(O[n].index)"
   ]
  },
  {
   "cell_type": "markdown",
   "metadata": {},
   "source": [
    "### Function to classify the dependent variable Smoothed AdjClose Price as -1 or 1"
   ]
  },
  {
   "cell_type": "code",
   "execution_count": 75,
   "metadata": {},
   "outputs": [],
   "source": [
    "def finalise_data(DF, column, n):\n",
    "    df = copy.deepcopy(DF)\n",
    "    df[column][column] = np.sign(np.log(df[column][column]/df[column][column].shift(n-1)))\n",
    "    \n",
    "    return df[column]"
   ]
  },
  {
   "cell_type": "code",
   "execution_count": 76,
   "metadata": {},
   "outputs": [],
   "source": [
    "from sklearn.model_selection import train_test_split\n",
    "from sklearn.ensemble import RandomForestClassifier\n",
    "from sklearn import metrics\n",
    "from sklearn.model_selection import GridSearchCV, RandomizedSearchCV"
   ]
  },
  {
   "cell_type": "code",
   "execution_count": 77,
   "metadata": {},
   "outputs": [],
   "source": [
    "def RFClassifier(DF, column, n, validation=False, validation_DF=None):\n",
    "    data = finalise_data(DF=DF, column=column, n=n)\n",
    "    data.dropna(axis=0, inplace=True)\n",
    "    \n",
    "    X = data[['OBV', 'Oscillator', 'MACD', 'Signal']]\n",
    "    y = data[column]\n",
    "    \n",
    "    X_train, X_test, y_train, y_test = train_test_split(X, y, test_size=0.2)\n",
    "    model = RandomForestClassifier(n_estimators=100)\n",
    "    model.fit(X_train,y_train)\n",
    "    prediction= model.predict(X_test)\n",
    "    \n",
    "    Accuracy = metrics.accuracy_score(y_test, prediction)\n",
    "    Precision = metrics.average_precision_score(y_test, prediction)\n",
    "    Recall = metrics.recall_score(y_test, prediction)\n",
    "    F1_score = metrics.f1_score(y_test, prediction)\n",
    "    \n",
    "    if validation ==  True:\n",
    "        validation_data = finalise_data(DF=validation_DF, column=column, n=n)\n",
    "        validation_data.dropna(axis=0, inplace=True)\n",
    "        \n",
    "        X_validation = validation_data[['OBV', 'Oscillator', 'MACD', 'Signal']]\n",
    "        y_validation = validation_data[column]\n",
    "        validation_prediction = model.predict(X_validation)\n",
    "        \n",
    "        Accuracy_validation = metrics.accuracy_score(y_validation, validation_prediction)\n",
    "        Precision_validation = metrics.average_precision_score(y_validation, validation_prediction)\n",
    "        Recall_validation = metrics.recall_score(y_validation, validation_prediction)\n",
    "        F1_score_validation = metrics.f1_score(y_validation, validation_prediction)\n",
    "        \n",
    "        return n, column,Accuracy_validation, Precision_validation, Recall_validation, F1_score_validation\n",
    "    \n",
    "    return n, column, Accuracy, Precision, Recall, F1_score"
   ]
  },
  {
   "cell_type": "code",
   "execution_count": 154,
   "metadata": {},
   "outputs": [],
   "source": [
    "def RFClassifier(DF, column, n, validation=False, validation_DF=None, feature_importance=False):\n",
    "    data = finalise_data(DF=DF, column=column, n=n)\n",
    "    data.dropna(axis=0, inplace=True)\n",
    "    \n",
    "    X = data[['OBV', 'Oscillator', 'MACD', 'Signal']]\n",
    "    y = data[column]\n",
    "    \n",
    "    X_train, X_test, y_train, y_test = train_test_split(X, y, test_size=0.2)\n",
    "    model = RandomForestClassifier(n_estimators=100)\n",
    "    model.fit(X_train,y_train)\n",
    "    prediction= model.predict(X_test)\n",
    "    \n",
    "    Accuracy = metrics.accuracy_score(y_test, prediction)\n",
    "    Precision = metrics.average_precision_score(y_test, prediction)\n",
    "    Recall = metrics.recall_score(y_test, prediction)\n",
    "    F1_score = metrics.f1_score(y_test, prediction)\n",
    "    \n",
    "    if validation ==  True:\n",
    "        validation_data = finalise_data(DF=validation_DF, column=column, n=n)\n",
    "        validation_data.dropna(axis=0, inplace=True)\n",
    "        \n",
    "        X_validation = validation_data[['OBV', 'Oscillator', 'MACD', 'Signal']]\n",
    "        y_validation = validation_data[column]\n",
    "        validation_prediction = model.predict(X_validation)\n",
    "        \n",
    "        Accuracy_validation = metrics.accuracy_score(y_validation, validation_prediction)\n",
    "        Precision_validation = metrics.average_precision_score(y_validation, validation_prediction)\n",
    "        Recall_validation = metrics.recall_score(y_validation, validation_prediction)\n",
    "        F1_score_validation = metrics.f1_score(y_validation, validation_prediction)\n",
    "        \n",
    "        return n, column,Accuracy_validation, Precision_validation, Recall_validation, F1_score_validation\n",
    "    \n",
    "    elif feature_importance == True:\n",
    "        return pd.Series(model.feature_importances_,(X).columns)\n",
    "        \n",
    "    else:\n",
    "        return n, column, Accuracy, Precision, Recall, F1_score"
   ]
  },
  {
   "cell_type": "code",
   "execution_count": 79,
   "metadata": {},
   "outputs": [],
   "source": [
    "train_test = []\n",
    "for i in AdjClose.columns:\n",
    "    for m in range(2,31):\n",
    "        train_test.append(RFClassifier(DF=dict_data, column=i, n=m))\n",
    "result = pd.DataFrame(np.array(train_test), columns=['n', 'Ticker', 'Accuracy', 'Precision', 'Recall', 'F1_score'])\n",
    "result[['F1_score','Recall','Precision','Accuracy']]=result[['F1_score','Recall','Precision','Accuracy']].astype(float)\n",
    "result['n']=result['n'].astype(int)"
   ]
  },
  {
   "cell_type": "code",
   "execution_count": 91,
   "metadata": {},
   "outputs": [],
   "source": [
    "validation_res = []\n",
    "for i in AdjClose.columns:\n",
    "    for m in range(2,31):\n",
    "        validation_res.append(RFClassifier(DF=dict_data, column=i, n=m, validation=True, validation_DF=dict_data_validation))\n",
    "validation_result = pd.DataFrame(np.array(validation_res), columns=['n', 'Ticker', 'AccuracyV', 'PrecisionV', 'RecallV', 'F1_scoreV'])\n",
    "validation_result[['F1_scoreV','RecallV','PrecisionV','AccuracyV']]=validation_result[['F1_scoreV','RecallV','PrecisionV','AccuracyV']].astype(float)\n",
    "validation_result['n']=validation_result['n'].astype(int)"
   ]
  },
  {
   "cell_type": "code",
   "execution_count": 140,
   "metadata": {},
   "outputs": [
    {
     "data": {
      "image/png": "[encoded data removed]",
      "text/plain": [
       "<Figure size 432x288 with 1 Axes>"
      ]
     },
     "metadata": {
      "needs_background": "light"
     },
     "output_type": "display_data"
    }
   ],
   "source": [
    "plt.title('Mean Accuracy for each n')\n",
    "plt.scatter(validation_result.groupby('n').mean().index, validation_result.groupby('n').mean().AccuracyV)\n",
    "plt.xticks(np.arange(min(validation_result.groupby('n').mean().index), max(validation_result.groupby('n').mean().index)+1, 2.0))\n",
    "plt.grid()\n",
    "plt.savefig('/Users/riccardo/OneDrive/OneDrive - UOM/ZDGN/Intelligent Portfolio/Mean Accuracy RF Classifer')"
   ]
  },
  {
   "cell_type": "code",
   "execution_count": 167,
   "metadata": {},
   "outputs": [],
   "source": [
    "feature_importances = []\n",
    "for i in AdjClose.columns:\n",
    "    for m in range(2,31):\n",
    "        feature_importances.append(RFClassifier(DF=dict_data, column=i, n=m, validation=False, validation_DF=None, feature_importance=True))\n",
    "feature_importances_df = pd.DataFrame(np.array(feature_importances), columns=[['OBV', 'Oscillator', 'MACD', 'Signal']], index=result.n)"
   ]
  },
  {
   "cell_type": "code",
   "execution_count": 197,
   "metadata": {},
   "outputs": [
    {
     "data": {
      "image/png": "[encoded data removed]",
      "text/plain": [
       "<Figure size 432x288 with 1 Axes>"
      ]
     },
     "metadata": {
      "needs_background": "light"
     },
     "output_type": "display_data"
    }
   ],
   "source": [
    "plt.title('Feature Importance as a function of n')\n",
    "plt.plot(feature_importances_df.groupby(feature_importances_df.index).mean(), label=feature_importances_df.columns)\n",
    "plt.legend()\n",
    "plt.savefig('/Users/riccardo/OneDrive/OneDrive - UOM/ZDGN/Intelligent Portfolio/Feature Importance as a function of n')"
   ]
  },
  {
   "cell_type": "code",
   "execution_count": 228,
   "metadata": {
    "collapsed": true,
    "jupyter": {
     "outputs_hidden": true
    }
   },
   "outputs": [
    {
     "ename": "NameError",
     "evalue": "name 'tree' is not defined",
     "output_type": "error",
     "traceback": [
      "\u001b[0;31m---------------------------------------------------------------------------\u001b[0m",
      "\u001b[0;31mNameError\u001b[0m                                 Traceback (most recent call last)",
      "\u001b[0;32m<ipython-input-228-10f5de39efac>\u001b[0m in \u001b[0;36m<module>\u001b[0;34m\u001b[0m\n\u001b[1;32m      1\u001b[0m \u001b[0mplt\u001b[0m\u001b[0;34m.\u001b[0m\u001b[0mfigure\u001b[0m\u001b[0;34m(\u001b[0m\u001b[0mfigsize\u001b[0m\u001b[0;34m=\u001b[0m\u001b[0;34m(\u001b[0m\u001b[0;36m20\u001b[0m\u001b[0;34m,\u001b[0m\u001b[0;36m20\u001b[0m\u001b[0;34m)\u001b[0m\u001b[0;34m)\u001b[0m\u001b[0;34m\u001b[0m\u001b[0;34m\u001b[0m\u001b[0m\n\u001b[0;32m----> 2\u001b[0;31m \u001b[0m_\u001b[0m \u001b[0;34m=\u001b[0m \u001b[0mtree\u001b[0m\u001b[0;34m.\u001b[0m\u001b[0mplot_tree\u001b[0m\u001b[0;34m(\u001b[0m\u001b[0mrandom_for_prova\u001b[0m\u001b[0;34m.\u001b[0m\u001b[0mestimators_\u001b[0m\u001b[0;34m[\u001b[0m\u001b[0;36m0\u001b[0m\u001b[0;34m]\u001b[0m\u001b[0;34m,\u001b[0m \u001b[0mfeature_names\u001b[0m\u001b[0;34m=\u001b[0m\u001b[0mX_prova\u001b[0m\u001b[0;34m.\u001b[0m\u001b[0mcolumns\u001b[0m\u001b[0;34m,\u001b[0m \u001b[0mfilled\u001b[0m\u001b[0;34m=\u001b[0m\u001b[0;32mTrue\u001b[0m\u001b[0;34m)\u001b[0m\u001b[0;34m\u001b[0m\u001b[0;34m\u001b[0m\u001b[0m\n\u001b[0m\u001b[1;32m      3\u001b[0m \u001b[0mplt\u001b[0m\u001b[0;34m.\u001b[0m\u001b[0msavefig\u001b[0m\u001b[0;34m(\u001b[0m\u001b[0;34m'/Users/riccardo/OneDrive/OneDrive - UOM/ZDGN/Intelligent Portfolio/oi'\u001b[0m\u001b[0;34m)\u001b[0m\u001b[0;34m\u001b[0m\u001b[0;34m\u001b[0m\u001b[0m\n",
      "\u001b[0;31mNameError\u001b[0m: name 'tree' is not defined"
     ]
    },
    {
     "data": {
      "text/plain": [
       "<Figure size 1440x1440 with 0 Axes>"
      ]
     },
     "metadata": {},
     "output_type": "display_data"
    }
   ],
   "source": [
    "plt.figure(figsize=(20,20))\n",
    "_ = tree.plot_tree(random_for_prova.estimators_[0], feature_names=X_prova.columns, filled=True)"
   ]
  },
  {
   "cell_type": "code",
   "execution_count": 230,
   "metadata": {},
   "outputs": [
    {
     "data": {
      "text/html": [
       "<div>\n",
       "<style scoped>\n",
       "    .dataframe tbody tr th:only-of-type {\n",
       "        vertical-align: middle;\n",
       "    }\n",
       "\n",
       "    .dataframe tbody tr th {\n",
       "        vertical-align: top;\n",
       "    }\n",
       "\n",
       "    .dataframe thead tr th {\n",
       "        text-align: left;\n",
       "    }\n",
       "\n",
       "    .dataframe thead tr:last-of-type th {\n",
       "        text-align: right;\n",
       "    }\n",
       "</style>\n",
       "<table border=\"1\" class=\"dataframe\">\n",
       "  <thead>\n",
       "    <tr>\n",
       "      <th></th>\n",
       "      <th>OBV</th>\n",
       "      <th>Oscillator</th>\n",
       "      <th>MACD</th>\n",
       "      <th>Signal</th>\n",
       "    </tr>\n",
       "    <tr>\n",
       "      <th>n</th>\n",
       "      <th></th>\n",
       "      <th></th>\n",
       "      <th></th>\n",
       "      <th></th>\n",
       "    </tr>\n",
       "  </thead>\n",
       "  <tbody>\n",
       "    <tr>\n",
       "      <th>2</th>\n",
       "      <td>0.083897</td>\n",
       "      <td>0.664310</td>\n",
       "      <td>0.139361</td>\n",
       "      <td>0.112432</td>\n",
       "    </tr>\n",
       "    <tr>\n",
       "      <th>3</th>\n",
       "      <td>0.083016</td>\n",
       "      <td>0.667354</td>\n",
       "      <td>0.139327</td>\n",
       "      <td>0.110304</td>\n",
       "    </tr>\n",
       "    <tr>\n",
       "      <th>4</th>\n",
       "      <td>0.078546</td>\n",
       "      <td>0.677720</td>\n",
       "      <td>0.139120</td>\n",
       "      <td>0.104615</td>\n",
       "    </tr>\n",
       "    <tr>\n",
       "      <th>5</th>\n",
       "      <td>0.076139</td>\n",
       "      <td>0.691996</td>\n",
       "      <td>0.133455</td>\n",
       "      <td>0.098409</td>\n",
       "    </tr>\n",
       "    <tr>\n",
       "      <th>6</th>\n",
       "      <td>0.068955</td>\n",
       "      <td>0.703414</td>\n",
       "      <td>0.133391</td>\n",
       "      <td>0.094241</td>\n",
       "    </tr>\n",
       "    <tr>\n",
       "      <th>7</th>\n",
       "      <td>0.061367</td>\n",
       "      <td>0.717300</td>\n",
       "      <td>0.133811</td>\n",
       "      <td>0.087522</td>\n",
       "    </tr>\n",
       "    <tr>\n",
       "      <th>8</th>\n",
       "      <td>0.054646</td>\n",
       "      <td>0.733561</td>\n",
       "      <td>0.131588</td>\n",
       "      <td>0.080205</td>\n",
       "    </tr>\n",
       "    <tr>\n",
       "      <th>9</th>\n",
       "      <td>0.046913</td>\n",
       "      <td>0.744636</td>\n",
       "      <td>0.133221</td>\n",
       "      <td>0.075230</td>\n",
       "    </tr>\n",
       "    <tr>\n",
       "      <th>10</th>\n",
       "      <td>0.038930</td>\n",
       "      <td>0.761000</td>\n",
       "      <td>0.132934</td>\n",
       "      <td>0.067136</td>\n",
       "    </tr>\n",
       "    <tr>\n",
       "      <th>11</th>\n",
       "      <td>0.035019</td>\n",
       "      <td>0.754115</td>\n",
       "      <td>0.142073</td>\n",
       "      <td>0.068794</td>\n",
       "    </tr>\n",
       "    <tr>\n",
       "      <th>12</th>\n",
       "      <td>0.032666</td>\n",
       "      <td>0.734075</td>\n",
       "      <td>0.158643</td>\n",
       "      <td>0.074616</td>\n",
       "    </tr>\n",
       "    <tr>\n",
       "      <th>13</th>\n",
       "      <td>0.035485</td>\n",
       "      <td>0.696853</td>\n",
       "      <td>0.185235</td>\n",
       "      <td>0.082428</td>\n",
       "    </tr>\n",
       "    <tr>\n",
       "      <th>14</th>\n",
       "      <td>0.040082</td>\n",
       "      <td>0.643808</td>\n",
       "      <td>0.213934</td>\n",
       "      <td>0.102177</td>\n",
       "    </tr>\n",
       "    <tr>\n",
       "      <th>15</th>\n",
       "      <td>0.053625</td>\n",
       "      <td>0.569450</td>\n",
       "      <td>0.247933</td>\n",
       "      <td>0.128992</td>\n",
       "    </tr>\n",
       "    <tr>\n",
       "      <th>16</th>\n",
       "      <td>0.061671</td>\n",
       "      <td>0.498972</td>\n",
       "      <td>0.292047</td>\n",
       "      <td>0.147310</td>\n",
       "    </tr>\n",
       "    <tr>\n",
       "      <th>17</th>\n",
       "      <td>0.069524</td>\n",
       "      <td>0.436327</td>\n",
       "      <td>0.319523</td>\n",
       "      <td>0.174627</td>\n",
       "    </tr>\n",
       "    <tr>\n",
       "      <th>18</th>\n",
       "      <td>0.074839</td>\n",
       "      <td>0.373012</td>\n",
       "      <td>0.373210</td>\n",
       "      <td>0.178940</td>\n",
       "    </tr>\n",
       "    <tr>\n",
       "      <th>19</th>\n",
       "      <td>0.077215</td>\n",
       "      <td>0.296505</td>\n",
       "      <td>0.443316</td>\n",
       "      <td>0.182964</td>\n",
       "    </tr>\n",
       "    <tr>\n",
       "      <th>20</th>\n",
       "      <td>0.080997</td>\n",
       "      <td>0.251450</td>\n",
       "      <td>0.473342</td>\n",
       "      <td>0.194211</td>\n",
       "    </tr>\n",
       "    <tr>\n",
       "      <th>21</th>\n",
       "      <td>0.080507</td>\n",
       "      <td>0.206251</td>\n",
       "      <td>0.495002</td>\n",
       "      <td>0.218241</td>\n",
       "    </tr>\n",
       "    <tr>\n",
       "      <th>22</th>\n",
       "      <td>0.083316</td>\n",
       "      <td>0.155568</td>\n",
       "      <td>0.511218</td>\n",
       "      <td>0.249898</td>\n",
       "    </tr>\n",
       "    <tr>\n",
       "      <th>23</th>\n",
       "      <td>0.083854</td>\n",
       "      <td>0.137160</td>\n",
       "      <td>0.508032</td>\n",
       "      <td>0.270954</td>\n",
       "    </tr>\n",
       "    <tr>\n",
       "      <th>24</th>\n",
       "      <td>0.081438</td>\n",
       "      <td>0.118363</td>\n",
       "      <td>0.545221</td>\n",
       "      <td>0.254978</td>\n",
       "    </tr>\n",
       "    <tr>\n",
       "      <th>25</th>\n",
       "      <td>0.083400</td>\n",
       "      <td>0.111982</td>\n",
       "      <td>0.526271</td>\n",
       "      <td>0.278347</td>\n",
       "    </tr>\n",
       "    <tr>\n",
       "      <th>26</th>\n",
       "      <td>0.081200</td>\n",
       "      <td>0.093957</td>\n",
       "      <td>0.532880</td>\n",
       "      <td>0.291964</td>\n",
       "    </tr>\n",
       "    <tr>\n",
       "      <th>27</th>\n",
       "      <td>0.081738</td>\n",
       "      <td>0.083486</td>\n",
       "      <td>0.527184</td>\n",
       "      <td>0.307592</td>\n",
       "    </tr>\n",
       "    <tr>\n",
       "      <th>28</th>\n",
       "      <td>0.079415</td>\n",
       "      <td>0.075264</td>\n",
       "      <td>0.544458</td>\n",
       "      <td>0.300863</td>\n",
       "    </tr>\n",
       "    <tr>\n",
       "      <th>29</th>\n",
       "      <td>0.079736</td>\n",
       "      <td>0.077088</td>\n",
       "      <td>0.525280</td>\n",
       "      <td>0.317896</td>\n",
       "    </tr>\n",
       "    <tr>\n",
       "      <th>30</th>\n",
       "      <td>0.079618</td>\n",
       "      <td>0.075198</td>\n",
       "      <td>0.526100</td>\n",
       "      <td>0.319083</td>\n",
       "    </tr>\n",
       "  </tbody>\n",
       "</table>\n",
       "</div>"
      ],
      "text/plain": [
       "         OBV Oscillator      MACD    Signal\n",
       "n                                          \n",
       "2   0.083897   0.664310  0.139361  0.112432\n",
       "3   0.083016   0.667354  0.139327  0.110304\n",
       "4   0.078546   0.677720  0.139120  0.104615\n",
       "5   0.076139   0.691996  0.133455  0.098409\n",
       "6   0.068955   0.703414  0.133391  0.094241\n",
       "7   0.061367   0.717300  0.133811  0.087522\n",
       "8   0.054646   0.733561  0.131588  0.080205\n",
       "9   0.046913   0.744636  0.133221  0.075230\n",
       "10  0.038930   0.761000  0.132934  0.067136\n",
       "11  0.035019   0.754115  0.142073  0.068794\n",
       "12  0.032666   0.734075  0.158643  0.074616\n",
       "13  0.035485   0.696853  0.185235  0.082428\n",
       "14  0.040082   0.643808  0.213934  0.102177\n",
       "15  0.053625   0.569450  0.247933  0.128992\n",
       "16  0.061671   0.498972  0.292047  0.147310\n",
       "17  0.069524   0.436327  0.319523  0.174627\n",
       "18  0.074839   0.373012  0.373210  0.178940\n",
       "19  0.077215   0.296505  0.443316  0.182964\n",
       "20  0.080997   0.251450  0.473342  0.194211\n",
       "21  0.080507   0.206251  0.495002  0.218241\n",
       "22  0.083316   0.155568  0.511218  0.249898\n",
       "23  0.083854   0.137160  0.508032  0.270954\n",
       "24  0.081438   0.118363  0.545221  0.254978\n",
       "25  0.083400   0.111982  0.526271  0.278347\n",
       "26  0.081200   0.093957  0.532880  0.291964\n",
       "27  0.081738   0.083486  0.527184  0.307592\n",
       "28  0.079415   0.075264  0.544458  0.300863\n",
       "29  0.079736   0.077088  0.525280  0.317896\n",
       "30  0.079618   0.075198  0.526100  0.319083"
      ]
     },
     "execution_count": 230,
     "metadata": {},
     "output_type": "execute_result"
    }
   ],
   "source": [
    "feature_importances_df.groupby(feature_importances_df.index).mean()"
   ]
  },
  {
   "cell_type": "code",
   "execution_count": null,
   "metadata": {},
   "outputs": [],
   "source": []
  }
 ],
 "metadata": {
  "kernelspec": {
   "display_name": "Python 3",
   "language": "python",
   "name": "python3"
  },
  "language_info": {
   "codemirror_mode": {
    "name": "ipython",
    "version": 3
   },
   "file_extension": ".py",
   "mimetype": "text/x-python",
   "name": "python",
   "nbconvert_exporter": "python",
   "pygments_lexer": "ipython3",
   "version": "3.8.3"
  }
 },
 "nbformat": 4,
 "nbformat_minor": 4
}
