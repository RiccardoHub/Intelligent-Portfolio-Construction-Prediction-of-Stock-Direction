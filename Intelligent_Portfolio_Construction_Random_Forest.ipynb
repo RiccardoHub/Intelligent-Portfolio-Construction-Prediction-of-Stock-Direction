{
 "cells": [
  {
   "cell_type": "code",
   "execution_count": 7,
   "metadata": {},
   "outputs": [],
   "source": [
    "import pandas as pd \n",
    "import numpy as np\n",
    "import yfinance as yf\n",
    "import copy\n",
    "import datetime as dt\n",
    "import matplotlib.pyplot as plt\n",
    "from sklearn.model_selection import train_test_split\n",
    "from sklearn.ensemble import RandomForestClassifier\n",
    "from sklearn import metrics"
   ]
  },
  {
   "cell_type": "code",
   "execution_count": 2,
   "metadata": {},
   "outputs": [],
   "source": [
    "tickers = ['AAPL', 'AMZN', 'C', 'CVS', 'MMM', 'SBUX', 'SCHW', 'XOM']\n",
    "start = '2000-06-02'\n",
    "end = '2016-04-26' \n",
    "end2 = dt.datetime.today()"
   ]
  },
  {
   "attachments": {},
   "cell_type": "markdown",
   "metadata": {},
   "source": [
    "### Import Data"
   ]
  },
  {
   "cell_type": "code",
   "execution_count": 3,
   "metadata": {},
   "outputs": [
    {
     "name": "stdout",
     "output_type": "stream",
     "text": [
      "[*********************100%***********************]  8 of 8 completed\n",
      "[*********************100%***********************]  8 of 8 completed\n",
      "[*********************100%***********************]  8 of 8 completed\n",
      "[*********************100%***********************]  8 of 8 completed\n",
      "[*********************100%***********************]  8 of 8 completed\n"
     ]
    }
   ],
   "source": [
    "AdjClose = yf.download(tickers, start=start, end=end)['Adj Close']\n",
    "Volume = yf.download(tickers, start=start, end=end)['Volume']\n",
    "High = yf.download(tickers, start=start, end=end)['High']\n",
    "Low = yf.download(tickers, start=start, end=end)['Low']\n",
    "Close = yf.download(tickers, start=start, end=end)['Close']"
   ]
  },
  {
   "cell_type": "code",
   "execution_count": 4,
   "metadata": {},
   "outputs": [
    {
     "name": "stdout",
     "output_type": "stream",
     "text": [
      "[*********************100%***********************]  8 of 8 completed\n",
      "[*********************100%***********************]  8 of 8 completed\n",
      "[*********************100%***********************]  8 of 8 completed\n",
      "[*********************100%***********************]  8 of 8 completed\n",
      "[*********************100%***********************]  8 of 8 completed\n"
     ]
    }
   ],
   "source": [
    "AdjClose_Validation = yf.download(tickers, start=end, end=end2)['Adj Close']\n",
    "Volume_Validation = yf.download(tickers, start=end, end=end2)['Volume']\n",
    "High_Validation = yf.download(tickers, start=end, end=end2)['High']\n",
    "Low_Validation = yf.download(tickers, start=end, end=end2)['Low']\n",
    "Close_Validation = yf.download(tickers, start=end, end=end2)['Close']"
   ]
  },
  {
   "attachments": {},
   "cell_type": "markdown",
   "metadata": {},
   "source": [
    "### Exponential Smoothing Function"
   ]
  },
  {
   "cell_type": "code",
   "execution_count": 12,
   "metadata": {},
   "outputs": [],
   "source": [
    "def exponential_smoothing(df, alpha):\n",
    "    DF = df.copy().reset_index(drop=True) \n",
    "    DF.loc[1] = (DF.loc[1]*alpha)+(DF.loc[0]*(1-alpha))\n",
    "    \n",
    "    for i in range(2, len(DF)-1):\n",
    "        DF[i] = (DF[i]*alpha)+(DF[i-1]*(1-alpha))\n",
    "    \n",
    "    return DF\n",
    "\n",
    "E = {}\n",
    "for n in AdjClose.columns:\n",
    "    E[f'{n}']= exponential_smoothing(AdjClose[n], 0.2)"
   ]
  },
  {
   "attachments": {},
   "cell_type": "markdown",
   "metadata": {},
   "source": [
    "### Feature Derivation"
   ]
  },
  {
   "attachments": {},
   "cell_type": "markdown",
   "metadata": {},
   "source": [
    "### On Balance Volume"
   ]
  },
  {
   "cell_type": "code",
   "execution_count": 6,
   "metadata": {},
   "outputs": [],
   "source": [
    "def OBV(df_price, df_volume):\n",
    "    OBV_df = pd.DataFrame(index=range(len(df_volume.index)), columns=['OBV'])\n",
    "    OBV_df.iloc[0] = 0\n",
    "    \n",
    "    for i in range(1, len(df_price)):\n",
    "        if df_price[i] > df_price[i-1]:\n",
    "            OBV_df.loc[i] = (OBV_df.loc[i-1] + df_volume[i])\n",
    "        elif df_price[i] < df_price[i-1]:\n",
    "            OBV_df.loc[i] = (OBV_df.loc[i-1] - df_volume[i])\n",
    "        else:\n",
    "            OBV_df.loc[i] = (OBV_df.loc[i-1] + 0)\n",
    "    \n",
    "    OBV_df.index = df_volume.index\n",
    "    return OBV_df\n",
    "\n",
    "O = {}\n",
    "for n in AdjClose.columns:\n",
    "    O[f'{n}']= OBV(E[n], Volume[n])"
   ]
  },
  {
   "cell_type": "code",
   "execution_count": 7,
   "metadata": {},
   "outputs": [
    {
     "data": {
      "text/plain": [
       "<matplotlib.legend.Legend at 0x124e8ad90>"
      ]
     },
     "execution_count": 7,
     "metadata": {},
     "output_type": "execute_result"
    },
    {
     "data": {
      "image/png": "[encoded data removed]",
      "text/plain": [
       "<Figure size 432x288 with 1 Axes>"
      ]
     },
     "metadata": {
      "needs_background": "light"
     },
     "output_type": "display_data"
    }
   ],
   "source": [
    "plt.plot(((O['AAPL']-O['AAPL'].min())/(O['AAPL'].max()-O['AAPL'].min())).reset_index(drop=True), label='OBV')\n",
    "plt.plot((E['AAPL']-E['AAPL'].min())/(E['AAPL'].max()-E['AAPL'].min()), label='Smoothed')\n",
    "plt.legend()"
   ]
  },
  {
   "attachments": {},
   "cell_type": "markdown",
   "metadata": {},
   "source": [
    "#### Stochastic Oscillator"
   ]
  },
  {
   "cell_type": "code",
   "execution_count": 9,
   "metadata": {},
   "outputs": [],
   "source": [
    "def stochastic_oscillator(close, df_low, df_high, K):\n",
    "    \"remember not to use AdjClose\"\n",
    "    low = df_low.rolling(K).min().reset_index(drop=True)\n",
    "    high = df_high.rolling(K).max().reset_index(drop=True)\n",
    "    \n",
    "    stoch_oscillator = pd.DataFrame()\n",
    "    stoch_oscillator['Oscillator'] = 100*((close - low)/(high - low))\n",
    "    \n",
    "    return stoch_oscillator\n",
    "\n",
    "S = {}\n",
    "for n in AdjClose.columns:\n",
    "    S[f'{n}']= stochastic_oscillator(close=E[n], df_low=E[n], df_high=E[n], K=14)"
   ]
  },
  {
   "attachments": {},
   "cell_type": "markdown",
   "metadata": {},
   "source": [
    "#### Moving Average Convergence Divergence"
   ]
  },
  {
   "cell_type": "code",
   "execution_count": 14,
   "metadata": {},
   "outputs": [],
   "source": [
    "# New One for Validation Set\n",
    "def MACD(data):\n",
    "    MA_Fast = data.ewm(span=12,min_periods=12).mean()\n",
    "    MA_Slow = data.ewm(span=26,min_periods=26).mean()\n",
    "    MACD = MA_Fast - MA_Slow\n",
    "    Signal = MACD.ewm(span=9,min_periods=9).mean()\n",
    "    \n",
    "    return pd.DataFrame(index=['MACD', 'Signal'], data=[MACD,Signal]).T\n",
    "\n",
    "M = {}\n",
    "for n in AdjClose.columns:\n",
    "    M[f'{n}'] = MACD(data=E[n])"
   ]
  },
  {
   "attachments": {},
   "cell_type": "markdown",
   "metadata": {},
   "source": [
    "### Concatenate functions in a single dictionary"
   ]
  },
  {
   "cell_type": "code",
   "execution_count": 15,
   "metadata": {},
   "outputs": [],
   "source": [
    "dict_data = {}\n",
    "for n in AdjClose.columns:\n",
    "    dict_data[f'{n}'] = (pd.concat([E[n], \n",
    "                                    O[n].reset_index(drop=True), \n",
    "                                    S[n], \n",
    "                                    M[n]],\n",
    "                                   axis=1)).set_index(O[n].index)"
   ]
  },
  {
   "attachments": {},
   "cell_type": "markdown",
   "metadata": {},
   "source": [
    "### Application of all functions to validation set"
   ]
  },
  {
   "cell_type": "code",
   "execution_count": 16,
   "metadata": {},
   "outputs": [],
   "source": [
    "# Smoothing\n",
    "E_validation = {}\n",
    "for n in AdjClose_Validation.columns:\n",
    "    E_validation[f'{n}']= exponential_smoothing(AdjClose_Validation[n], 0.2)\n",
    "    \n",
    "# On Balance Volume\n",
    "O_validation = {}\n",
    "for n in AdjClose_Validation.columns:\n",
    "    O_validation[f'{n}']= OBV(E_validation[n], Volume_Validation[n])\n",
    "\n",
    "# Stochastic Oscillator\n",
    "S_validation = {}\n",
    "for n in AdjClose_Validation.columns:\n",
    "    S_validation[f'{n}']= stochastic_oscillator(close=E_validation[n], df_low=E_validation[n], df_high=E_validation[n], K=14)\n",
    "    \n",
    "# Moving Average Convergence Divergence\n",
    "M_validation = {}\n",
    "for n in AdjClose_Validation.columns:\n",
    "    M_validation[f'{n}'] = MACD(data=pd.Series(E_validation[n]))\n",
    "    \n",
    "# Concatenate all together    \n",
    "dict_data_validation = {}\n",
    "for n in AdjClose_Validation.columns:\n",
    "    dict_data_validation[f'{n}'] = (pd.concat([E_validation[n], \n",
    "                                               O_validation[n].reset_index(drop=True), \n",
    "                                               S_validation[n], \n",
    "                                               M_validation[n]], axis=1)).set_index(O_validation[n].index)"
   ]
  },
  {
   "attachments": {},
   "cell_type": "markdown",
   "metadata": {},
   "source": [
    "### Function to classify the dependent variable Smoothed AdjClose Price as -1 or 1"
   ]
  },
  {
   "cell_type": "code",
   "execution_count": 17,
   "metadata": {},
   "outputs": [],
   "source": [
    "def finalise_data(DF, column, n):\n",
    "    df = copy.deepcopy(DF)\n",
    "    df[column][column] = np.sign(np.log(df[column][column]/df[column][column].shift(n-1)))\n",
    "    \n",
    "    return df[column]"
   ]
  },
  {
   "attachments": {},
   "cell_type": "markdown",
   "metadata": {},
   "source": [
    "### Random Forest Model"
   ]
  },
  {
   "cell_type": "code",
   "execution_count": 18,
   "metadata": {},
   "outputs": [],
   "source": [
    "def RFClassifier(DF, column, n, validation=False, validation_DF=None, feature_importance=False):\n",
    "    data = finalise_data(DF=DF, column=column, n=n)\n",
    "    data.dropna(axis=0, inplace=True)\n",
    "    \n",
    "    X = data[['OBV', 'Oscillator', 'MACD', 'Signal']]\n",
    "    y = data[column]\n",
    "    \n",
    "    X_train, X_test, y_train, y_test = train_test_split(X, y, test_size=0.2)\n",
    "    model = RandomForestClassifier(n_estimators=100)\n",
    "    model.fit(X_train,y_train)\n",
    "    prediction= model.predict(X_test)\n",
    "    \n",
    "    Accuracy = metrics.accuracy_score(y_test, prediction)\n",
    "    Precision = metrics.average_precision_score(y_test, prediction)\n",
    "    Recall = metrics.recall_score(y_test, prediction)\n",
    "    F1_score = metrics.f1_score(y_test, prediction)\n",
    "    \n",
    "    if validation ==  True:\n",
    "        validation_data = finalise_data(DF=validation_DF, column=column, n=n)\n",
    "        validation_data.dropna(axis=0, inplace=True)\n",
    "        \n",
    "        X_validation = validation_data[['OBV', 'Oscillator', 'MACD', 'Signal']]\n",
    "        y_validation = validation_data[column]\n",
    "        validation_prediction = model.predict(X_validation)\n",
    "        \n",
    "        Accuracy_validation = metrics.accuracy_score(y_validation, validation_prediction)\n",
    "        Precision_validation = metrics.average_precision_score(y_validation, validation_prediction)\n",
    "        Recall_validation = metrics.recall_score(y_validation, validation_prediction)\n",
    "        F1_score_validation = metrics.f1_score(y_validation, validation_prediction)\n",
    "        \n",
    "        return n, column,Accuracy_validation, Precision_validation, Recall_validation, F1_score_validation\n",
    "    \n",
    "    elif feature_importance == True:\n",
    "        return pd.Series(model.feature_importances_,(X).columns)\n",
    "        \n",
    "    else:\n",
    "        return n, column, Accuracy, Precision, Recall, F1_score"
   ]
  },
  {
   "cell_type": "code",
   "execution_count": 19,
   "metadata": {},
   "outputs": [],
   "source": [
    "train_test = []\n",
    "for i in AdjClose.columns:\n",
    "    for m in range(2,31):\n",
    "        train_test.append(RFClassifier(DF=dict_data, column=i, n=m))\n",
    "result = pd.DataFrame(np.array(train_test), columns=['n', 'Ticker', 'Accuracy', 'Precision', 'Recall', 'F1_score'])\n",
    "result[['F1_score','Recall','Precision','Accuracy']]=result[['F1_score','Recall','Precision','Accuracy']].astype(float)\n",
    "result['n']=result['n'].astype(int)"
   ]
  },
  {
   "cell_type": "code",
   "execution_count": 20,
   "metadata": {},
   "outputs": [],
   "source": [
    "validation_res = []\n",
    "for i in AdjClose.columns:\n",
    "    for m in range(2,31):\n",
    "        validation_res.append(RFClassifier(DF=dict_data, column=i, n=m, validation=True, validation_DF=dict_data_validation))\n",
    "validation_result = pd.DataFrame(np.array(validation_res), columns=['n', 'Ticker', 'AccuracyV', 'PrecisionV', 'RecallV', 'F1_scoreV'])\n",
    "validation_result[['F1_scoreV','RecallV','PrecisionV','AccuracyV']]=validation_result[['F1_scoreV','RecallV','PrecisionV','AccuracyV']].astype(float)\n",
    "validation_result['n']=validation_result['n'].astype(int)"
   ]
  },
  {
   "cell_type": "code",
   "execution_count": 21,
   "metadata": {},
   "outputs": [
    {
     "data": {
      "image/png": "[encoded data removed]",
      "text/plain": [
       "<Figure size 432x288 with 1 Axes>"
      ]
     },
     "metadata": {
      "needs_background": "light"
     },
     "output_type": "display_data"
    }
   ],
   "source": [
    "plt.title('Mean Accuracy for each n')\n",
    "plt.scatter(validation_result.groupby('n').mean().index, validation_result.groupby('n').mean().AccuracyV)\n",
    "plt.xticks(np.arange(min(validation_result.groupby('n').mean().index), max(validation_result.groupby('n').mean().index)+1, 2.0))\n",
    "plt.grid()"
   ]
  },
  {
   "cell_type": "code",
   "execution_count": 22,
   "metadata": {},
   "outputs": [],
   "source": [
    "feature_importances = []\n",
    "for i in AdjClose.columns:\n",
    "    for m in range(2,31):\n",
    "        feature_importances.append(RFClassifier(DF=dict_data, column=i, n=m, validation=False, validation_DF=None, feature_importance=True))\n",
    "feature_importances_df = pd.DataFrame(np.array(feature_importances), columns=[['OBV', 'Oscillator', 'MACD', 'Signal']], index=result.n)"
   ]
  },
  {
   "cell_type": "code",
   "execution_count": 23,
   "metadata": {},
   "outputs": [
    {
     "data": {
      "text/plain": [
       "<matplotlib.legend.Legend at 0x124c66cd0>"
      ]
     },
     "execution_count": 23,
     "metadata": {},
     "output_type": "execute_result"
    },
    {
     "data": {
      "image/png": "[encoded data removed]",
      "text/plain": [
       "<Figure size 432x288 with 1 Axes>"
      ]
     },
     "metadata": {
      "needs_background": "light"
     },
     "output_type": "display_data"
    }
   ],
   "source": [
    "plt.title('Feature Importance as a function of n')\n",
    "plt.plot(feature_importances_df.groupby(feature_importances_df.index).mean(), label=feature_importances_df.columns)\n",
    "plt.legend()"
   ]
  },
  {
   "cell_type": "code",
   "execution_count": null,
   "metadata": {},
   "outputs": [],
   "source": []
  }
 ],
 "metadata": {
  "kernelspec": {
   "display_name": "Python 3",
   "language": "python",
   "name": "python3"
  },
  "language_info": {
   "codemirror_mode": {
    "name": "ipython",
    "version": 3
   },
   "file_extension": ".py",
   "mimetype": "text/x-python",
   "name": "python",
   "nbconvert_exporter": "python",
   "pygments_lexer": "ipython3",
   "version": "3.8.5"
  }
 },
 "nbformat": 4,
 "nbformat_minor": 4
}
